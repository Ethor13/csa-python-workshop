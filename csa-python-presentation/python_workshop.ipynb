{
 "metadata": {
  "language_info": {
   "codemirror_mode": {
    "name": "ipython",
    "version": 3
   },
   "file_extension": ".py",
   "mimetype": "text/x-python",
   "name": "python",
   "nbconvert_exporter": "python",
   "pygments_lexer": "ipython3",
   "version": "3.7.4-final"
  },
  "orig_nbformat": 2,
  "kernelspec": {
   "name": "python_defaultSpec_1600639257391",
   "display_name": "Python 3.7.4 64-bit"
  }
 },
 "nbformat": 4,
 "nbformat_minor": 2,
 "cells": [
  {
   "source": [
    "# Data Analysis in Python Using Pandas\n",
    "### by Ethan Orlowsky\n",
    "#### Credits to Pandas.org and Quantopian.com for the content in this Workshop"
   ],
   "cell_type": "markdown",
   "metadata": {}
  },
  {
   "source": [
    "## Goals:\n",
    "This workbook takes you through a guided example of the steps you should take when analyzing datasets for your projects. The outcomes of this workshop are:\n",
    "- Making calculations on your dataset\n",
    "- Visualizing data and finding trends in your dataset"
   ],
   "cell_type": "markdown",
   "metadata": {}
  },
  {
   "source": [
    "## Research Question: How accurate are NFL predraft rankings of prospects?\n",
    "<img src='images\\grading_scale.png' style='width:1500px'><img src='images\\baker.png' style='width:1500px'>"
   ],
   "cell_type": "markdown",
   "metadata": {}
  },
  {
   "cell_type": "code",
   "execution_count": null,
   "metadata": {},
   "outputs": [],
   "source": [
    "import pandas as pd\n",
    "import matplotlib.pyplot as plt"
   ]
  },
  {
   "source": [
    "I found my data on [NFL.com] and [https://www.pro-football-reference.com/]. The data isn't very easy to get and requires webscraping. For easy to use data, look at [Kaggle.com] for free datasets you can download."
   ],
   "cell_type": "markdown",
   "metadata": {}
  },
  {
   "cell_type": "code",
   "execution_count": null,
   "metadata": {},
   "outputs": [],
   "source": [
    "player_grades = pd.read_csv('data/player_grades.csv')\n",
    "player_stats = pd.read_csv('data/player_stats.csv')"
   ]
  },
  {
   "cell_type": "code",
   "execution_count": null,
   "metadata": {},
   "outputs": [],
   "source": [
    "player_grades.head(5)"
   ]
  },
  {
   "cell_type": "code",
   "execution_count": null,
   "metadata": {},
   "outputs": [],
   "source": [
    "player_stats.head(5)"
   ]
  },
  {
   "source": [
    "## Pandas Data Structures\n",
    "### Series\n",
    "A series is essentially a list of data. A series has two parts: the index and the values\n",
    "- the index identifies a row\n",
    "- the values are the data you're actually interested in"
   ],
   "cell_type": "markdown",
   "metadata": {}
  },
  {
   "source": [
    "series = player_stats.loc[:, 'name']\n",
    "print(type(series), '\\n')\n",
    "series.head(5)"
   ],
   "cell_type": "code",
   "metadata": {
    "tags": []
   },
   "execution_count": null,
   "outputs": []
  },
  {
   "source": [
    "#### Accessing Data in Series\n",
    "We can access data in a series by using the `iloc[]` method\n",
    "- `iloc[]` accesses elements by the integer index"
   ],
   "cell_type": "markdown",
   "metadata": {}
  },
  {
   "cell_type": "code",
   "execution_count": null,
   "metadata": {
    "tags": []
   },
   "outputs": [],
   "source": [
    "# Select the entry at the index 1018\n",
    "series.iloc[1018]"
   ]
  },
  {
   "source": [
    "### DataFrames\n",
    "A DataFrame is a collection of Series's. One row of a DataFrame is all the data associated with the same index"
   ],
   "cell_type": "markdown",
   "metadata": {}
  },
  {
   "cell_type": "code",
   "execution_count": null,
   "metadata": {
    "tags": []
   },
   "outputs": [],
   "source": [
    "print(type(player_stats))\n",
    "player_stats.head(5)"
   ]
  },
  {
   "source": [
    "#### Accessing Data in DataFrames\n",
    "For DataFrames, we use `loc[]` to access data (note: Series used `iloc[]`)"
   ],
   "cell_type": "markdown",
   "metadata": {}
  },
  {
   "cell_type": "code",
   "execution_count": null,
   "metadata": {
    "tags": []
   },
   "outputs": [],
   "source": [
    "# Select the row at the index 1018\n",
    "player_stats.loc[1018]"
   ]
  },
  {
   "cell_type": "code",
   "execution_count": null,
   "metadata": {
    "tags": []
   },
   "outputs": [],
   "source": [
    "# All the names in the dataframe\n",
    "# ':' selects all the rows\n",
    "player_stats.loc[:, 'name']"
   ]
  },
  {
   "cell_type": "code",
   "execution_count": null,
   "metadata": {},
   "outputs": [],
   "source": [
    "# Khalil Mack's awards\n",
    "player_stats.loc[4, 'gs2']"
   ]
  },
  {
   "source": [
    "### Try to print out only the awards Baker Mayfield has won so far"
   ],
   "cell_type": "markdown",
   "metadata": {}
  },
  {
   "cell_type": "code",
   "execution_count": null,
   "metadata": {},
   "outputs": [],
   "source": [
    "# Use the above cells for reference. Hint: Baker Mayfield has not won any awards\n",
    "player_stats.loc[1018, 'awards']"
   ]
  },
  {
   "source": [
    "## Making Calculations on DataFrames\n",
    "You can filter a DataFrame with the `loc[]` method. For our example, we want to filter out players who have an invalid grade."
   ],
   "cell_type": "markdown",
   "metadata": {}
  },
  {
   "cell_type": "code",
   "execution_count": null,
   "metadata": {},
   "outputs": [],
   "source": [
    "# Check which rows have a grade less than 5\n",
    "player_grades.loc[:, 'grade'] < 5"
   ]
  },
  {
   "cell_type": "code",
   "execution_count": null,
   "metadata": {},
   "outputs": [],
   "source": [
    "# A DataFrame containing the rows where the grade is less than 5\n",
    "player_grades.loc[player_grades.loc[:, 'grade'] < 5].head(5)"
   ]
  },
  {
   "cell_type": "code",
   "execution_count": null,
   "metadata": {},
   "outputs": [],
   "source": [
    "# Filter our data set to have rows that have grades at least 5\n",
    "player_grades = player_grades[player_grades.loc[:, 'grade'] >= 5]"
   ]
  },
  {
   "cell_type": "code",
   "execution_count": null,
   "metadata": {},
   "outputs": [],
   "source": [
    "# Check again to see if we still have rows with a grade of less than 5\n",
    "player_grades.loc[player_grades.loc[:, 'grade'] < 5].head(5)"
   ]
  },
  {
   "source": [
    "### Try to find someone on your favorite team\n",
    "Is their score higher or lower than you expected? Remember this score for later on in the workshop."
   ],
   "cell_type": "markdown",
   "metadata": {}
  },
  {
   "cell_type": "code",
   "execution_count": null,
   "metadata": {},
   "outputs": [],
   "source": [
    "# Replace 'Baker Mayfield' with a different name\n",
    "# Note: This data only has people drafted between 2014 and 2018, so not all players can be found\n",
    "player_grades[player_grades.loc[:, 'name'] == 'Baker Mayfield']"
   ]
  },
  {
   "source": [
    "### Filling in missing data\n",
    "For some of the columns, no data can be found. Pandas defaults to calling these missing values `NaN` which stands for \"Not a Number.\" It's hard to perform calculations on a dataset when not all of the values are numbers, so it is neccesary that we change the `NaN` values to a number, or delete entries containg `NaN`"
   ],
   "cell_type": "markdown",
   "metadata": {}
  },
  {
   "cell_type": "code",
   "execution_count": null,
   "metadata": {},
   "outputs": [],
   "source": [
    "# Filter the DataFrame to show only the rows that have an instance of a NaN\n",
    "player_stats.loc[player_stats.loc[:,'g1'].isna()].head(1)"
   ]
  },
  {
   "source": [
    "Pandas has a convenient function called `fillna` that replaces all instances of `NaN` with a specified value. In this case, it makes sense to replace `NaN` with 0, but this isn't always the case."
   ],
   "cell_type": "markdown",
   "metadata": {}
  },
  {
   "cell_type": "code",
   "execution_count": null,
   "metadata": {},
   "outputs": [],
   "source": [
    "# Replace all the instances of NaN with the number 0\n",
    "player_stats = player_stats.fillna(0)"
   ]
  },
  {
   "cell_type": "code",
   "execution_count": null,
   "metadata": {},
   "outputs": [],
   "source": [
    "# Check to see that no rows contain NaN after replacing them with 0\n",
    "player_stats.loc[player_stats.loc[:,'g1'].isna()].head(1)"
   ]
  },
  {
   "source": [
    "### Creating new Columns in DataFrames\n",
    "The columns in your DataFrame aren't always exactly what you want. For example, in the awards column, we have a list of awards, which we will need to parse through eventually. It will be a lot easier if we create new columns for each of the possible awards that is either True or False."
   ],
   "cell_type": "markdown",
   "metadata": {}
  },
  {
   "cell_type": "code",
   "execution_count": null,
   "metadata": {},
   "outputs": [],
   "source": [
    "# create indicator columns that show whether a certain player has any of these awards\n",
    "is_mvp = pd.Series(['MVP' in awards for awards in player_stats.loc[:, 'awards']])\n",
    "is_probowl = pd.Series(['Pro Bowl' in awards for awards in player_stats.loc[:, 'awards']])\n",
    "is_PoY = pd.Series(['PoY' in awards for awards in player_stats.loc[:, 'awards']])\n",
    "is_allPro = pd.Series(['All Pro' in awards for awards in player_stats.loc[:, 'awards']])"
   ]
  },
  {
   "cell_type": "code",
   "execution_count": null,
   "metadata": {},
   "outputs": [],
   "source": [
    "is_mvp"
   ]
  },
  {
   "cell_type": "code",
   "execution_count": null,
   "metadata": {
    "tags": []
   },
   "outputs": [],
   "source": [
    "# filter the DataFrame to only show players who have been an MVP\n",
    "player_stats.loc[is_mvp].head(1)"
   ]
  },
  {
   "cell_type": "code",
   "execution_count": null,
   "metadata": {},
   "outputs": [],
   "source": [
    "# filter the DataFrame to only show players who have made it to the Pro Bowl\n",
    "player_stats.loc[is_probowl].head(1)"
   ]
  },
  {
   "cell_type": "code",
   "execution_count": null,
   "metadata": {},
   "outputs": [],
   "source": [
    "# filter the DataFrame to only show players who have been a Player of the Year\n",
    "player_stats.loc[is_PoY].head(1)"
   ]
  },
  {
   "cell_type": "code",
   "execution_count": null,
   "metadata": {},
   "outputs": [],
   "source": [
    "# filter the DataFrame to only show players who have been an All Pro\n",
    "player_stats.loc[is_allPro].head(1)"
   ]
  },
  {
   "cell_type": "code",
   "execution_count": null,
   "metadata": {
    "tags": []
   },
   "outputs": [],
   "source": [
    "# The following cell creates 4 new indicator columns\n",
    "player_stats['MVP'] = is_mvp\n",
    "player_stats['ProBowl'] = is_probowl\n",
    "player_stats['PoY'] = is_PoY\n",
    "player_stats['AllPro'] = is_allPro"
   ]
  },
  {
   "cell_type": "code",
   "execution_count": null,
   "metadata": {},
   "outputs": [],
   "source": [
    "# Checking to see that the three new columns were created\n",
    "player_stats.head(1)"
   ]
  },
  {
   "source": [
    "### Removing Columns\n",
    "Now that we have three awards indicator columns, we don't need the awards columns anymore"
   ],
   "cell_type": "markdown",
   "metadata": {}
  },
  {
   "cell_type": "code",
   "execution_count": null,
   "metadata": {},
   "outputs": [],
   "source": [
    "# the first argument of drop is a list of the labels you want to drop\n",
    "# the second argument of drop says whether you want to drop these labels from the rows (1) or the columns (2)\n",
    "player_stats = player_stats.drop(['awards'], axis=1)"
   ]
  },
  {
   "cell_type": "code",
   "execution_count": null,
   "metadata": {},
   "outputs": [],
   "source": [
    "# Checking to see that the awards columns was removed\n",
    "player_stats.head(1)"
   ]
  },
  {
   "source": [
    "### Creating a calculated column from multiple columns in a DataFrame\n",
    "Now that all of the columns in our DataFrame are the way we want, we can now try to calculate a new grade for each player. Using the criteria from NFL.com we can regrade the players.\n",
    "<img src='images\\grading_scale.png' style='width:1500px'> <br>\n",
    "Here is how I interpreted the grading criteria. You will notice not all grades are possible with the new system, since some of the descriptions are hard to quantify.\n",
    "- 8 = has been an MVP or PoY\n",
    "- 7.4 = has been an All Pro\n",
    "- 7.05 = has been on a Pro Bowl team\n",
    "- 6.75 = 66% starts in first year with at least 8 starts\n",
    "- 6.35 = 50% starts in first two years\n",
    "- 6.15 = 20+ games played in first 2 years, 1+ starts\n",
    "- 5.85 = 20+ games played in first 2 years, 0 starts\n",
    "- 5.55 = > 0 games played\n",
    "- 5.4 = 0 games played"
   ],
   "cell_type": "markdown",
   "metadata": {}
  },
  {
   "cell_type": "code",
   "execution_count": null,
   "metadata": {
    "tags": []
   },
   "outputs": [],
   "source": [
    "# Calculating post-draft grades for all the players\n",
    "grades = pd.Series()\n",
    "for i in player_stats.index:\n",
    "    player = player_stats.iloc[i]\n",
    "    grade = 8 if player['MVP'] or player['PoY'] else \\\n",
    "            7.4 if player['AllPro'] else \\\n",
    "            7.05 if player['ProBowl'] else \\\n",
    "            6.75 if (player['g1'] > 0) and (player['gs1'] / player['g1']) >= 0.66 and player['g1'] >= 8 else \\\n",
    "            6.35 if (player['g1'] + player['g2'] > 0) and (player['gs1'] + player['gs2']) / (player['g1'] + player['g2']) >= 0.5 else \\\n",
    "            6.15 if (player['g1'] + player['g2']) >= 20 and (player['gs1'] + player['gs2']) > 0 else \\\n",
    "            5.85 if (player['g1'] + player['g2']) >= 20 else \\\n",
    "            5.55 if (player['g1'] + player['g2']) > 0 else \\\n",
    "            5.4\n",
    "    player_series = pd.Series([grade], index=[i])\n",
    "    grades = grades.append(player_series)"
   ]
  },
  {
   "cell_type": "code",
   "execution_count": null,
   "metadata": {},
   "outputs": [],
   "source": [
    "# adding the post-draft grades as a column into our DataFrame\n",
    "player_stats['grade'] = grades"
   ]
  },
  {
   "cell_type": "code",
   "execution_count": null,
   "metadata": {},
   "outputs": [],
   "source": [
    "# Checking to see that the new grade column is in the DataFrame\n",
    "player_stats.head(1)"
   ]
  },
  {
   "source": [
    "## Joining two DataFrames together\n",
    "Since we have two distinct DataFrames, we will need to combine them together to compare the pre-draft and post-draft grades"
   ],
   "cell_type": "markdown",
   "metadata": {}
  },
  {
   "cell_type": "code",
   "execution_count": null,
   "metadata": {},
   "outputs": [],
   "source": [
    "# Merging the DataFrame so that rows with the same player name and draft year get combined\n",
    "merged_df = player_grades.merge(player_stats, on=['name', 'year'], suffixes=['_pre', '_post'])\n",
    "# Take a subset of the columns that we want\n",
    "merged_df = merged_df[['name', 'year', 'college', 'position', 'grade_pre', 'grade_post']]\n",
    "# Calculating the difference between the actual and expected grades\n",
    "grade_diff = merged_df['grade_post'] - merged_df['grade_pre']\n",
    "merged_df['grade_diff'] = grade_diff\n",
    "# Checking to see that the merged DataFrame looks right\n",
    "merged_df.head(1)"
   ]
  },
  {
   "source": [
    "### Check to see your favorite player's pre and post draft grades"
   ],
   "cell_type": "markdown",
   "metadata": {}
  },
  {
   "cell_type": "code",
   "execution_count": null,
   "metadata": {},
   "outputs": [],
   "source": [
    "# Replace 'Baker Mayfield' with your favorite player\n",
    "merged_df[merged_df.loc[:, 'name'] == 'Baker Mayfield']"
   ]
  },
  {
   "source": [
    "## Visualizing a Dataset\n",
    "Now that we have our final dataframe, we want to see how the draft grades compare. We will use some built-in functions to help us see the trends."
   ],
   "cell_type": "markdown",
   "metadata": {}
  },
  {
   "cell_type": "code",
   "execution_count": null,
   "metadata": {},
   "outputs": [],
   "source": [
    "# Plotting the frequencies of draft grades\n",
    "merged_df[['grade_pre', 'grade_post']].plot.hist(bins=8, figsize=(15,7.5), alpha=0.5, color=['red', 'royalblue'])\n",
    "\n",
    "plt.xlabel('Grade')\n",
    "plt.ylabel('Frequency')\n",
    "plt.show()"
   ]
  },
  {
   "cell_type": "code",
   "execution_count": null,
   "metadata": {},
   "outputs": [],
   "source": [
    "# Finding the players who's post draft grades increased by over 1.5\n",
    "risers = merged_df.loc[merged_df.loc[:, 'grade_diff'] > 1.5]\n",
    "x = risers['grade_post']\n",
    "y = risers['grade_diff']\n",
    "\n",
    "fig, ax = plt.subplots(figsize=(15,7.5))\n",
    "ax.scatter(x, y)\n",
    "\n",
    "for i, name in enumerate(risers.loc[:, 'name']):\n",
    "    ax.annotate(s=name, xy=(x.iloc[i], y.iloc[i]), xytext=(x.iloc[i] - .06, y.iloc[i] + .01))\n",
    "\n",
    "plt.xlabel('Post-Draft Grade')\n",
    "plt.ylabel('Grade Difference')\n",
    "plt.show()"
   ]
  },
  {
   "cell_type": "code",
   "execution_count": null,
   "metadata": {},
   "outputs": [],
   "source": [
    "average_grades = merged_df.groupby('grade_pre').mean().drop(['year','grade_diff'], axis=1)\n",
    "average_grades['grade_pre'] = average_grades.index\n",
    "average_grades.plot(figsize=(15,7.5))\n",
    "\n",
    "plt.xlabel('Average Pre-Draft Grade')\n",
    "plt.ylabel('Average Post-Draft Grade')\n",
    "plt.show()"
   ]
  },
  {
   "cell_type": "code",
   "execution_count": null,
   "metadata": {},
   "outputs": [],
   "source": []
  }
 ]
}